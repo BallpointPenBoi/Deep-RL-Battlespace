{
 "cells": [
  {
   "cell_type": "code",
   "execution_count": 1,
   "metadata": {},
   "outputs": [
    {
     "name": "stdout",
     "output_type": "stream",
     "text": [
      "pygame 2.1.2 (SDL 2.0.18, Python 3.9.12)\n",
      "Hello from the pygame community. https://www.pygame.org/contribute.html\n"
     ]
    }
   ],
   "source": [
    "import torch\n",
    "import torch.nn as nn\n",
    "import torch.optim as optim\n",
    "import torch.nn.functional as F\n",
    "import torch.distributions as distributions\n",
    "import battle_v1\n",
    "import numpy as np"
   ]
  },
  {
   "cell_type": "code",
   "execution_count": 2,
   "metadata": {},
   "outputs": [],
   "source": [
    "cf = {\n",
    "    'n_agents': 2, # Number of planes on each team\n",
    "    'show': False, # Show visuals\n",
    "    'hit_base_reward': 10, # Reward value for hitting enemy base\n",
    "    'hit_plane_reward': 2, # Reward value for hitting enemy plane\n",
    "    'miss_punishment': 0, # Punishment value for missing a shot\n",
    "    'lose_punishment': -3, # Punishment value for losing the game\n",
    "    'die_punishment': -3, # Punishment value for a plane dying\n",
    "    'fps': 20 # Framerate that the visuals run at\n",
    "}"
   ]
  },
  {
   "cell_type": "code",
   "execution_count": 3,
   "metadata": {},
   "outputs": [],
   "source": [
    "train_env = battle_v1.parallel_env(**cf)\n",
    "test_env = battle_v1.parallel_env(**cf)"
   ]
  },
  {
   "cell_type": "code",
   "execution_count": 4,
   "metadata": {},
   "outputs": [
    {
     "ename": "NotImplementedError",
     "evalue": "Calling seed externally is deprecated; call reset(seed=seed) instead",
     "output_type": "error",
     "traceback": [
      "\u001b[1;31m---------------------------------------------------------------------------\u001b[0m",
      "\u001b[1;31mNotImplementedError\u001b[0m                       Traceback (most recent call last)",
      "\u001b[1;32mc:\\Users\\Willi\\OneDrive\\Desktop\\Research\\train_torch.ipynb Cell 4\u001b[0m in \u001b[0;36m<cell line: 3>\u001b[1;34m()\u001b[0m\n\u001b[0;32m      <a href='vscode-notebook-cell:/c%3A/Users/Willi/OneDrive/Desktop/Research/train_torch.ipynb#ch0000003?line=0'>1</a>\u001b[0m SEED \u001b[39m=\u001b[39m \u001b[39m1234\u001b[39m\n\u001b[1;32m----> <a href='vscode-notebook-cell:/c%3A/Users/Willi/OneDrive/Desktop/Research/train_torch.ipynb#ch0000003?line=2'>3</a>\u001b[0m train_env\u001b[39m.\u001b[39;49mseed(SEED);\n\u001b[0;32m      <a href='vscode-notebook-cell:/c%3A/Users/Willi/OneDrive/Desktop/Research/train_torch.ipynb#ch0000003?line=3'>4</a>\u001b[0m test_env\u001b[39m.\u001b[39mseed(SEED\u001b[39m+\u001b[39m\u001b[39m1\u001b[39m);\n\u001b[0;32m      <a href='vscode-notebook-cell:/c%3A/Users/Willi/OneDrive/Desktop/Research/train_torch.ipynb#ch0000003?line=4'>5</a>\u001b[0m np\u001b[39m.\u001b[39mrandom\u001b[39m.\u001b[39mseed(SEED);\n",
      "File \u001b[1;32mc:\\Users\\Willi\\miniconda3\\lib\\site-packages\\pettingzoo\\utils\\env.py:305\u001b[0m, in \u001b[0;36mParallelEnv.seed\u001b[1;34m(self, seed)\u001b[0m\n\u001b[0;32m    301\u001b[0m \u001b[39mdef\u001b[39;00m \u001b[39mseed\u001b[39m(\u001b[39mself\u001b[39m, seed\u001b[39m=\u001b[39m\u001b[39mNone\u001b[39;00m):\n\u001b[0;32m    302\u001b[0m     \u001b[39m\"\"\"\u001b[39;00m\n\u001b[0;32m    303\u001b[0m \u001b[39m    Reseeds the environment (making it deterministic).\u001b[39;00m\n\u001b[0;32m    304\u001b[0m \u001b[39m    \"\"\"\u001b[39;00m\n\u001b[1;32m--> 305\u001b[0m     \u001b[39mraise\u001b[39;00m \u001b[39mNotImplementedError\u001b[39;00m(\n\u001b[0;32m    306\u001b[0m         \u001b[39m\"\u001b[39m\u001b[39mCalling seed externally is deprecated; call reset(seed=seed) instead\u001b[39m\u001b[39m\"\u001b[39m\n\u001b[0;32m    307\u001b[0m     )\n",
      "\u001b[1;31mNotImplementedError\u001b[0m: Calling seed externally is deprecated; call reset(seed=seed) instead"
     ]
    }
   ],
   "source": [
    "SEED = 1234\n",
    "\n",
    "train_env.seed(SEED);\n",
    "test_env.seed(SEED+1);\n",
    "np.random.seed(SEED);\n",
    "torch.manual_seed(SEED);"
   ]
  },
  {
   "cell_type": "code",
   "execution_count": null,
   "metadata": {},
   "outputs": [],
   "source": [
    "class MLP(nn.Module):\n",
    "    def __init__(self, input_dim, hidden_dim, output_dim, dropout = 0.5):\n",
    "        super().__init__()\n",
    "\n",
    "        self.fc_1 = nn.Linear(input_dim, hidden_dim)\n",
    "        self.fc_2 = nn.Linear(hidden_dim, output_dim)\n",
    "        self.dropout = nn.Dropout(dropout)\n",
    "        \n",
    "    def forward(self, x):\n",
    "        x = self.fc_1(x)\n",
    "        x = self.dropout(x)\n",
    "        x = F.relu(x)\n",
    "        x = self.fc_2(x)\n",
    "        return x"
   ]
  },
  {
   "cell_type": "code",
   "execution_count": null,
   "metadata": {},
   "outputs": [],
   "source": [
    "class ActorCritic(nn.Module):\n",
    "    def __init__(self, actor, critic):\n",
    "        super().__init__()\n",
    "        \n",
    "        self.actor = actor\n",
    "        self.critic = critic\n",
    "        \n",
    "    def forward(self, state):\n",
    "        \n",
    "        action_pred = self.actor(state)\n",
    "        value_pred = self.critic(state)\n",
    "        \n",
    "        return action_pred, value_pred"
   ]
  },
  {
   "cell_type": "code",
   "execution_count": null,
   "metadata": {},
   "outputs": [],
   "source": [
    "INPUT_DIM = train_env.observation_spaces('plane0').shape\n",
    "HIDDEN_DIM = 128\n",
    "OUTPUT_DIM = train_env.action_space.n\n",
    "\n",
    "actor = MLP(INPUT_DIM, HIDDEN_DIM, OUTPUT_DIM)\n",
    "critic = MLP(INPUT_DIM, HIDDEN_DIM, 1)\n",
    "\n",
    "policy = ActorCritic(actor, critic)\n",
    "print(INPUT_DIM)\n",
    "print(OUTPUT_DIM)"
   ]
  },
  {
   "cell_type": "code",
   "execution_count": null,
   "metadata": {},
   "outputs": [],
   "source": []
  }
 ],
 "metadata": {
  "kernelspec": {
   "display_name": "Python 3.9.12 ('base')",
   "language": "python",
   "name": "python3"
  },
  "language_info": {
   "codemirror_mode": {
    "name": "ipython",
    "version": 3
   },
   "file_extension": ".py",
   "mimetype": "text/x-python",
   "name": "python",
   "nbconvert_exporter": "python",
   "pygments_lexer": "ipython3",
   "version": "3.9.12"
  },
  "orig_nbformat": 4,
  "vscode": {
   "interpreter": {
    "hash": "2f9c2e007771efceb85382aa011b8a6a8e29c72f8a97441d236f12248428b2c3"
   }
  }
 },
 "nbformat": 4,
 "nbformat_minor": 2
}
